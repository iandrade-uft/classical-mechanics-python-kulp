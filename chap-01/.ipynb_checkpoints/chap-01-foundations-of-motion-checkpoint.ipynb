{
 "cells": [
  {
   "cell_type": "markdown",
   "id": "ecebd3d0-b438-4a04-a3d6-cbb978f46535",
   "metadata": {},
   "source": [
    "# 01. Fundamentos do Movimento e Computação"
   ]
  },
  {
   "cell_type": "markdown",
   "id": "511acefe-1d41-4591-9bd0-30e50485724b",
   "metadata": {},
   "source": [
    "*Exemplo 1.1: Velocidade como função do tempo*\n",
    "\n",
    "Considere uma partícula se movendo em linha reta com aceleração constante $a$. Se no tempo $t = 0$ a velocidade da partícula é $v_0$, encontre a fórmula para a velocidade da partícula como função do tempo.\n",
    "\n",
    "**_Solução Algébrica:_**\n",
    "\n",
    "\\begin{align*}\n",
    "    \\dfrac{dv}{dt} = a & \\Rightarrow dv = a dt \\Rightarrow \\int_{v_0}^{v(t)} dv^{\\prime} = \\int_{0}^{t} a dt^{\\prime}\\\\\n",
    "    &\\Rightarrow v(t) - v_{0} = at\\\\\n",
    "    &\\Rightarrow v(t) = v_{0} + at\n",
    "\\end{align*}"
   ]
  },
  {
   "cell_type": "markdown",
   "id": "934b6acc-ee4a-485d-8d92-44d0f1b2cb64",
   "metadata": {},
   "source": [
    "**_Solução Computacional:_**"
   ]
  },
  {
   "cell_type": "code",
   "execution_count": 3,
   "id": "ac192f98-b57a-4b50-830f-b2ed92d3120e",
   "metadata": {},
   "outputs": [],
   "source": [
    "# Bibliotecas necessárias\n",
    "import sympy as sp\n",
    "sp.init_printing()"
   ]
  },
  {
   "cell_type": "code",
   "execution_count": 4,
   "id": "5efa3f97-b290-4621-b40b-36986b88e2d8",
   "metadata": {},
   "outputs": [],
   "source": [
    "# Definição das variáveis\n",
    "v = sp.Function('v')\n",
    "t = sp.Symbol('t', real=True, positive=True)\n",
    "a = sp.Symbol('a', real=True)"
   ]
  },
  {
   "cell_type": "code",
   "execution_count": 5,
   "id": "882446bf-b242-487c-857e-f282ff9b0931",
   "metadata": {},
   "outputs": [
    {
     "name": "stdout",
     "output_type": "stream",
     "text": [
      "C1 + a*t\n"
     ]
    }
   ],
   "source": [
    "# Solução\n",
    "general_soln = sp.dsolve(sp.Derivative(v(t) , t) - a, v(t))\n",
    "print(general_soln.rhs)"
   ]
  },
  {
   "cell_type": "code",
   "execution_count": null,
   "id": "181e4d98-10c3-425c-b5ba-c141904a144d",
   "metadata": {},
   "outputs": [],
   "source": []
  }
 ],
 "metadata": {
  "kernelspec": {
   "display_name": "science",
   "language": "python",
   "name": "science"
  },
  "language_info": {
   "codemirror_mode": {
    "name": "ipython",
    "version": 3
   },
   "file_extension": ".py",
   "mimetype": "text/x-python",
   "name": "python",
   "nbconvert_exporter": "python",
   "pygments_lexer": "ipython3",
   "version": "3.12.4"
  }
 },
 "nbformat": 4,
 "nbformat_minor": 5
}
